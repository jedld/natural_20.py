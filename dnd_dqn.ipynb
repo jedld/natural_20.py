{
 "cells": [
  {
   "cell_type": "code",
   "execution_count": null,
   "metadata": {},
   "outputs": [],
   "source": [
    "!pip install pyyaml\n",
    "!pip install dndice\n",
    "!pip install python-i18n\n",
    "!pip install gymnasium\n",
    "!pip install inflect\n",
    "!pip install collections-extended\n",
    "!pip install -e .\n"
   ]
  },
  {
   "cell_type": "code",
   "execution_count": null,
   "metadata": {},
   "outputs": [],
   "source": [
    "import unittest\n",
    "from natural20.map import Map, Terrain\n",
    "from natural20.battle import Battle\n",
    "from natural20.player_character import PlayerCharacter\n",
    "from natural20.map_renderer import MapRenderer\n",
    "from natural20.die_roll import DieRoll\n",
    "from natural20.generic_controller import GenericController\n",
    "from natural20.utils.utils import Session\n",
    "from natural20.actions.move_action import MoveAction\n",
    "from natural20.action import Action\n",
    "from natural20.gym.dndenv import dndenv\n",
    "from gymnasium import register, envs, make\n",
    "import random"
   ]
  },
  {
   "cell_type": "code",
   "execution_count": null,
   "metadata": {},
   "outputs": [],
   "source": [
    "env = make(\"dndenv-v0\", render_mode=\"ansi\")\n",
    "observation, info = env.reset(seed=42)\n",
    "# sample a move from info\n",
    "\n",
    "done = False\n",
    "while True:\n",
    "  action = random.choice(info[\"available_moves\"])\n",
    "  observation, reward, done, truncated, info = env.step(action)\n",
    "  print(env.action_space.sample())\n",
    "  # print(observation)\n",
    "  print(info)\n",
    "  print(env.render())\n",
    "  if done:\n",
    "    print(\"Episode finished after {} timesteps\".format(info[\"time_step\"]))\n",
    "    print(\"Reward: \", reward)\n",
    "    break\n",
    "  if truncated:\n",
    "    print(\"Episode truncated after {} timesteps\".format(info[\"time_step\"]))\n",
    "    print(\"Reward: \", reward)\n",
    "    break\n",
    "\n",
    "assert env is not None\n",
    "assert info is not None"
   ]
  },
  {
   "cell_type": "code",
   "execution_count": null,
   "metadata": {},
   "outputs": [],
   "source": []
  }
 ],
 "metadata": {
  "kernelspec": {
   "display_name": "ai221",
   "language": "python",
   "name": "python3"
  },
  "language_info": {
   "codemirror_mode": {
    "name": "ipython",
    "version": 3
   },
   "file_extension": ".py",
   "mimetype": "text/x-python",
   "name": "python",
   "nbconvert_exporter": "python",
   "pygments_lexer": "ipython3",
   "version": "3.10.14"
  }
 },
 "nbformat": 4,
 "nbformat_minor": 2
}
