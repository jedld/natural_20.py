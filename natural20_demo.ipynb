{
 "cells": [
  {
   "cell_type": "code",
   "execution_count": 1,
   "metadata": {},
   "outputs": [],
   "source": [
    "import time\n",
    "from natural20.map_renderer import MapRenderer\n",
    "from natural20.utils.utils import Session\n",
    "from natural20.map import Map\n",
    "from natural20.player_character import PlayerCharacter"
   ]
  },
  {
   "cell_type": "code",
   "execution_count": 2,
   "metadata": {},
   "outputs": [],
   "source": [
    "session = Session(root_path='tests/fixtures')\n",
    "battle_map = Map(session, 'large_map')\n",
    "map_renderer = MapRenderer(battle_map)\n",
    "fighter = PlayerCharacter.load(session, 'high_elf_fighter.yml')\n",
    "rogue = PlayerCharacter.load(session, 'halfling_rogue.yml')\n",
    "mage = PlayerCharacter.load(session, 'high_elf_mage.yml')\n",
    "battle_map.place((0, 1), fighter, 'G')"
   ]
  },
  {
   "cell_type": "code",
   "execution_count": 3,
   "metadata": {},
   "outputs": [
    {
     "name": "stdout",
     "output_type": "stream",
     "text": [
      "0.016818523406982422\n",
      "···········****····*····***···\n",
      "P·······*********·····****····\n",
      "·······**********····****·····\n",
      "·········*******······**······\n",
      "------------------------------\n",
      "······························\n",
      "······························\n",
      "······························\n",
      "------------------------------\n",
      "············*·················\n",
      "····*····*******··*··******···\n",
      "··········******······****····\n",
      "········*******·····********··\n",
      "······························\n",
      "······························\n",
      "······························\n",
      "\n"
     ]
    }
   ],
   "source": [
    "start_time = time.time()\n",
    "result = map_renderer.render(line_of_sight=fighter)\n",
    "duration = time.time() - start_time\n",
    "print(duration)\n",
    "print(result)"
   ]
  }
 ],
 "metadata": {
  "kernelspec": {
   "display_name": "gym",
   "language": "python",
   "name": "python3"
  },
  "language_info": {
   "codemirror_mode": {
    "name": "ipython",
    "version": 3
   },
   "file_extension": ".py",
   "mimetype": "text/x-python",
   "name": "python",
   "nbconvert_exporter": "python",
   "pygments_lexer": "ipython3",
   "version": "3.10.14"
  }
 },
 "nbformat": 4,
 "nbformat_minor": 2
}
