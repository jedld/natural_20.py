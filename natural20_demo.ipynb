{
 "cells": [
  {
   "cell_type": "code",
   "execution_count": 4,
   "metadata": {},
   "outputs": [],
   "source": [
    "import time\n",
    "from natural20.map_renderer import MapRenderer\n",
    "from natural20.utils.utils import Session\n",
    "from natural20.map import Map\n",
    "from natural20.player_character import PlayerCharacter\n",
    "from natural20.die_roll import DieRoll"
   ]
  },
  {
   "cell_type": "markdown",
   "metadata": {},
   "source": [
    "Die Roll Simulation"
   ]
  },
  {
   "cell_type": "markdown",
   "metadata": {},
   "source": [
    "A complete and powerful dice roll simulator is provided to enable you to accurately represent dice rolls in all Dungeons and Dragons 5th edition scenarios."
   ]
  },
  {
   "cell_type": "code",
   "execution_count": 7,
   "metadata": {},
   "outputs": [
    {
     "name": "stdout",
     "output_type": "stream",
     "text": [
      "Result of a d20 roll:  12\n",
      "Result of 2d6 + 2:  12\n",
      "Roll with advantage:  (3 | 17)\n",
      "Roll with disadvantage:  (8 | 13)\n",
      "Critical roll (double dice):  (4 + 2)\n",
      "Custom roll description:  (1 + 3)\n",
      "Expected value of 1d6 + 2:  5.5\n",
      "Probability of rolling at least 10 on 1d20+5:  0.8\n"
     ]
    }
   ],
   "source": [
    "# Rolling a single d20 die\n",
    "result = DieRoll.roll('1d20').result()\n",
    "print(\"Result of a d20 roll: \", result)\n",
    "\n",
    "# Rolling two d6 dice with a +2 modifier\n",
    "result = DieRoll.roll('2d6+2').result()\n",
    "print(\"Result of 2d6 + 2: \", result)\n",
    "\n",
    "# Rolling with advantage\n",
    "advantage_roll = DieRoll.roll('1d20', advantage=True)\n",
    "print(\"Roll with advantage: \", advantage_roll)\n",
    "\n",
    "# Rolling with disadvantage\n",
    "disadvantage_roll = DieRoll.roll('1d20', disadvantage=True)\n",
    "print(\"Roll with disadvantage: \", disadvantage_roll)\n",
    "\n",
    "\n",
    "# Rolling with a possibility of a critical hit\n",
    "\n",
    "critical_roll = DieRoll.roll('1d6', crit=True)\n",
    "print(\"Critical roll (double dice): \", critical_roll)\n",
    "\n",
    "# Custom description for a roll\n",
    "custom_roll = DieRoll.roll('2d8', description='Sneak Attack')\n",
    "print(\"Custom roll description: \", custom_roll)\n",
    "\n",
    "# Expected value of rolling 1d6 + 2\n",
    "expected_value = DieRoll.roll('1d6+2').expected()\n",
    "print(\"Expected value of 1d6 + 2: \", expected_value)\n",
    "\n",
    "# Probability of rolling at least 10 on 1d20+5 which essentially computes for P(X >= 10)\n",
    "probability = DieRoll.roll('1d20+5').prob(10)\n",
    "print(\"Probability of rolling at least 10 on 1d20+5: \", round(probability, 2))"
   ]
  },
  {
   "cell_type": "code",
   "execution_count": 2,
   "metadata": {},
   "outputs": [],
   "source": [
    "session = Session(root_path='tests/fixtures')\n",
    "battle_map = Map(session, 'large_map')\n",
    "map_renderer = MapRenderer(battle_map)\n",
    "fighter = PlayerCharacter.load(session, 'high_elf_fighter.yml')\n",
    "rogue = PlayerCharacter.load(session, 'halfling_rogue.yml')\n",
    "mage = PlayerCharacter.load(session, 'high_elf_mage.yml')\n",
    "battle_map.place((0, 1), fighter, 'G')"
   ]
  },
  {
   "cell_type": "code",
   "execution_count": 3,
   "metadata": {},
   "outputs": [
    {
     "name": "stdout",
     "output_type": "stream",
     "text": [
      "0.016818523406982422\n",
      "···········****····*····***···\n",
      "P·······*********·····****····\n",
      "·······**********····****·····\n",
      "·········*******······**······\n",
      "------------------------------\n",
      "······························\n",
      "······························\n",
      "······························\n",
      "------------------------------\n",
      "············*·················\n",
      "····*····*******··*··******···\n",
      "··········******······****····\n",
      "········*******·····********··\n",
      "······························\n",
      "······························\n",
      "······························\n",
      "\n"
     ]
    }
   ],
   "source": [
    "start_time = time.time()\n",
    "result = map_renderer.render(line_of_sight=fighter)\n",
    "duration = time.time() - start_time\n",
    "print(duration)\n",
    "print(result)"
   ]
  }
 ],
 "metadata": {
  "kernelspec": {
   "display_name": "gym",
   "language": "python",
   "name": "python3"
  },
  "language_info": {
   "codemirror_mode": {
    "name": "ipython",
    "version": 3
   },
   "file_extension": ".py",
   "mimetype": "text/x-python",
   "name": "python",
   "nbconvert_exporter": "python",
   "pygments_lexer": "ipython3",
   "version": "3.10.14"
  }
 },
 "nbformat": 4,
 "nbformat_minor": 2
}
