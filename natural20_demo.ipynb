{
 "cells": [
  {
   "cell_type": "code",
   "execution_count": 1,
   "metadata": {},
   "outputs": [],
   "source": [
    "import time\n",
    "from natural20.map_renderer import MapRenderer\n",
    "from natural20.utils.utils import Session\n",
    "from natural20.map import Map\n",
    "from natural20.player_character import PlayerCharacter\n",
    "from natural20.die_roll import DieRoll\n",
    "from natural20.gym.tools import generate_weapon_token_map"
   ]
  },
  {
   "cell_type": "markdown",
   "metadata": {},
   "source": [
    "Die Roll Simulation"
   ]
  },
  {
   "cell_type": "markdown",
   "metadata": {},
   "source": [
    "A complete and powerful dice roll simulator is provided to enable you to accurately represent dice rolls in all Dungeons and Dragons 5th edition scenarios."
   ]
  },
  {
   "cell_type": "code",
   "execution_count": 2,
   "metadata": {},
   "outputs": [
    {
     "name": "stdout",
     "output_type": "stream",
     "text": [
      "Result of a d20 roll:  20\n",
      "Result of 2d6 + 2:  9\n",
      "Roll with advantage:  (4 | 18)\n",
      "Roll with disadvantage:  (2 | 4)\n",
      "Critical roll (double dice):  (2 + 1)\n",
      "Custom roll description:  (4 + 4)\n",
      "Expected value of 1d6 + 2:  5.5\n",
      "Probability of rolling at least 10 on 1d20+5:  0.8\n"
     ]
    }
   ],
   "source": [
    "# Rolling a single d20 die\n",
    "result = DieRoll.roll('1d20').result()\n",
    "print(\"Result of a d20 roll: \", result)\n",
    "\n",
    "# Rolling two d6 dice with a +2 modifier\n",
    "result = DieRoll.roll('2d6+2').result()\n",
    "print(\"Result of 2d6 + 2: \", result)\n",
    "\n",
    "# Rolling with advantage\n",
    "advantage_roll = DieRoll.roll('1d20', advantage=True)\n",
    "print(\"Roll with advantage: \", advantage_roll)\n",
    "\n",
    "# Rolling with disadvantage\n",
    "disadvantage_roll = DieRoll.roll('1d20', disadvantage=True)\n",
    "print(\"Roll with disadvantage: \", disadvantage_roll)\n",
    "\n",
    "\n",
    "# Rolling with a possibility of a critical hit\n",
    "\n",
    "critical_roll = DieRoll.roll('1d6', crit=True)\n",
    "print(\"Critical roll (double dice): \", critical_roll)\n",
    "\n",
    "# Custom description for a roll\n",
    "custom_roll = DieRoll.roll('2d8', description='Sneak Attack')\n",
    "print(\"Custom roll description: \", custom_roll)\n",
    "\n",
    "# Expected value of rolling 1d6 + 2\n",
    "expected_value = DieRoll.roll('1d6+2').expected()\n",
    "print(\"Expected value of 1d6 + 2: \", expected_value)\n",
    "\n",
    "# Probability of rolling at least 10 on 1d20+5 which essentially computes for P(X >= 10)\n",
    "probability = DieRoll.roll('1d20+5').prob(10)\n",
    "print(\"Probability of rolling at least 10 on 1d20+5: \", round(probability, 2))"
   ]
  },
  {
   "cell_type": "markdown",
   "metadata": {},
   "source": [
    "Die Roll Insights\n",
    "=================\n",
    "\n",
    "There are instances where players and Dungeon Masters would very much like to know the details of the individual rolls that comprise a result."
   ]
  },
  {
   "cell_type": "code",
   "execution_count": 3,
   "metadata": {},
   "outputs": [
    {
     "name": "stdout",
     "output_type": "stream",
     "text": [
      "Get a die roll for 3d6: \n",
      "Final Result:  13\n",
      "Individual rolls:  [4, 6, 3]\n",
      "Roll pair:  (7, 11)  -> Chosen roll:  11\n",
      "Roll pair:  (6, 15)  -> Chosen roll:  15\n",
      "Contains a roll equal to max die side:  False\n"
     ]
    }
   ],
   "source": [
    "### Extracting Individual Die Roll Details\n",
    "\n",
    "# Roll multiple dice\n",
    "print(\"Get a die roll for 3d6: \")\n",
    "multi_die_roll = DieRoll.roll('3d6')\n",
    "\n",
    "print(\"Final Result: \", multi_die_roll.result())\n",
    "\n",
    "# Access individual rolls\n",
    "individual_rolls = multi_die_roll.rolls\n",
    "print(\"Individual rolls: \", individual_rolls)\n",
    "\n",
    "# Print each die roll from a complex roll with advantage\n",
    "complex_roll = DieRoll.roll('2d20', advantage=True)\n",
    "for roll_pair in complex_roll.rolls:\n",
    "    print(\"Roll pair: \", roll_pair, \" -> Chosen roll: \", max(roll_pair))\n",
    "\n",
    "# Using detailed information to check for specific conditions\n",
    "contains_max = any(roll == complex_roll.die_sides for roll in complex_roll.rolls)\n",
    "print(\"Contains a roll equal to max die side: \", contains_max)\n"
   ]
  },
  {
   "cell_type": "code",
   "execution_count": 4,
   "metadata": {},
   "outputs": [],
   "source": [
    "session = Session(root_path='templates')\n",
    "battle_map = Map(session, 'maps/game_map.yml')\n",
    "map_renderer = MapRenderer(battle_map)\n",
    "fighter = PlayerCharacter.load(session, 'characters/high_elf_fighter.yml')\n",
    "rogue = PlayerCharacter.load(session, 'characters/halfling_rogue.yml')\n",
    "mage = PlayerCharacter.load(session, 'characters/high_elf_mage.yml')\n",
    "battle_map.place((0, 1), fighter, 'G')\n",
    "battle_map.place((3, 2), rogue, 'R')"
   ]
  },
  {
   "cell_type": "code",
   "execution_count": 5,
   "metadata": {},
   "outputs": [
    {
     "name": "stdout",
     "output_type": "stream",
     "text": [
      "0.0005650520324707031\n",
      "·······\n",
      "G······\n",
      "···R···\n",
      "·^##  ·\n",
      "^^#    \n",
      "^^     \n",
      "\n",
      "·······\n",
      "G······\n",
      "···R···\n",
      "· ### ·\n",
      "       \n",
      "       \n",
      "\n"
     ]
    }
   ],
   "source": [
    "start_time = time.time()\n",
    "result = map_renderer.render(line_of_sight=fighter)\n",
    "duration = time.time() - start_time\n",
    "print(duration)\n",
    "print(result)\n",
    "result = map_renderer.render(line_of_sight=rogue)\n",
    "print(result)"
   ]
  },
  {
   "cell_type": "code",
   "execution_count": 6,
   "metadata": {},
   "outputs": [],
   "source": [
    "session = Session(root_path='templates')\n",
    "generate_weapon_token_map(session, 'weapon_token_map.yml')\n"
   ]
  }
 ],
 "metadata": {
  "kernelspec": {
   "display_name": "gym",
   "language": "python",
   "name": "python3"
  },
  "language_info": {
   "codemirror_mode": {
    "name": "ipython",
    "version": 3
   },
   "file_extension": ".py",
   "mimetype": "text/x-python",
   "name": "python",
   "nbconvert_exporter": "python",
   "pygments_lexer": "ipython3",
   "version": "3.10.14"
  }
 },
 "nbformat": 4,
 "nbformat_minor": 2
}
