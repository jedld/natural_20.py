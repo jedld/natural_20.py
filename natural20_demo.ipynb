{
 "cells": [
  {
   "cell_type": "code",
   "execution_count": 1,
   "metadata": {},
   "outputs": [],
   "source": [
    "import time\n",
    "from natural20.map_renderer import MapRenderer\n",
    "from natural20.session import Session\n",
    "from natural20.map import Map\n",
    "from natural20.player_character import PlayerCharacter\n",
    "from natural20.die_roll import DieRoll\n",
    "from natural20.gym.tools import generate_weapon_token_map, generate_spell_token_map"
   ]
  },
  {
   "cell_type": "markdown",
   "metadata": {},
   "source": [
    "Die Roll Simulation"
   ]
  },
  {
   "cell_type": "markdown",
   "metadata": {},
   "source": [
    "A complete and powerful dice roll simulator is provided to enable you to accurately represent dice rolls in all Dungeons and Dragons 5th edition scenarios."
   ]
  },
  {
   "cell_type": "code",
   "execution_count": 2,
   "metadata": {},
   "outputs": [
    {
     "name": "stdout",
     "output_type": "stream",
     "text": [
      "Result of a d20 roll:  10\n",
      "Result of 2d6 + 2:  6\n",
      "Roll with advantage:  d20(1 | 19*)\n",
      "Roll with disadvantage:  d20(19 | 18*)\n",
      "Critical roll (double dice):  d6(2 + 5)\n",
      "Custom roll description:  d8(3 + 2)\n",
      "Expected value of 1d6 + 2:  5.5\n",
      "Probability of rolling at least 10 on 1d20+5:  0.8\n"
     ]
    }
   ],
   "source": [
    "# Rolling a single d20 die\n",
    "result = DieRoll.roll('1d20').result()\n",
    "print(\"Result of a d20 roll: \", result)\n",
    "\n",
    "# Rolling two d6 dice with a +2 modifier\n",
    "result = DieRoll.roll('2d6+2').result()\n",
    "print(\"Result of 2d6 + 2: \", result)\n",
    "\n",
    "# Rolling with advantage\n",
    "advantage_roll = DieRoll.roll('1d20', advantage=True)\n",
    "print(\"Roll with advantage: \", advantage_roll)\n",
    "\n",
    "# Rolling with disadvantage\n",
    "disadvantage_roll = DieRoll.roll('1d20', disadvantage=True)\n",
    "print(\"Roll with disadvantage: \", disadvantage_roll)\n",
    "\n",
    "\n",
    "# Rolling with a possibility of a critical hit\n",
    "\n",
    "critical_roll = DieRoll.roll('1d6', crit=True)\n",
    "print(\"Critical roll (double dice): \", critical_roll)\n",
    "\n",
    "# Custom description for a roll\n",
    "custom_roll = DieRoll.roll('2d8', description='Sneak Attack')\n",
    "print(\"Custom roll description: \", custom_roll)\n",
    "\n",
    "# Expected value of rolling 1d6 + 2\n",
    "expected_value = DieRoll.roll('1d6+2').expected()\n",
    "print(\"Expected value of 1d6 + 2: \", expected_value)\n",
    "\n",
    "# Probability of rolling at least 10 on 1d20+5 which essentially computes for P(X >= 10)\n",
    "probability = DieRoll.roll('1d20+5').prob(10)\n",
    "print(\"Probability of rolling at least 10 on 1d20+5: \", round(probability, 2))"
   ]
  },
  {
   "cell_type": "markdown",
   "metadata": {},
   "source": [
    "Die Roll Insights\n",
    "=================\n",
    "\n",
    "There are instances where players and Dungeon Masters would very much like to know the details of the individual rolls that comprise a result."
   ]
  },
  {
   "cell_type": "code",
   "execution_count": 3,
   "metadata": {},
   "outputs": [
    {
     "name": "stdout",
     "output_type": "stream",
     "text": [
      "Get a die roll for 3d6: \n",
      "Final Result:  7\n",
      "Individual rolls:  [1, 2, 4]\n",
      "Roll pair:  (5, 19)  -> Chosen roll:  19\n",
      "Roll pair:  (18, 9)  -> Chosen roll:  18\n",
      "Contains a roll equal to max die side:  False\n"
     ]
    }
   ],
   "source": [
    "### Extracting Individual Die Roll Details\n",
    "\n",
    "# Roll multiple dice\n",
    "print(\"Get a die roll for 3d6: \")\n",
    "multi_die_roll = DieRoll.roll('3d6')\n",
    "\n",
    "print(\"Final Result: \", multi_die_roll.result())\n",
    "\n",
    "# Access individual rolls\n",
    "individual_rolls = multi_die_roll.rolls\n",
    "print(\"Individual rolls: \", individual_rolls)\n",
    "\n",
    "# Print each die roll from a complex roll with advantage\n",
    "complex_roll = DieRoll.roll('2d20', advantage=True)\n",
    "for roll_pair in complex_roll.rolls:\n",
    "    print(\"Roll pair: \", roll_pair, \" -> Chosen roll: \", max(roll_pair))\n",
    "\n",
    "# Using detailed information to check for specific conditions\n",
    "contains_max = any(roll == complex_roll.die_sides for roll in complex_roll.rolls)\n",
    "print(\"Contains a roll equal to max die side: \", contains_max)\n"
   ]
  },
  {
   "cell_type": "code",
   "execution_count": 5,
   "metadata": {},
   "outputs": [
    {
     "name": "stdout",
     "output_type": "stream",
     "text": [
      "Setting up attributes for Krulmokmak with max hp: d6(3 + 4)=7\n",
      "Setting up attributes for gabba with max hp: d6(2 + 4)=6\n",
      "Setting up attributes for Gordash with max hp: d6(3 + 5)=8\n",
      "Setting up attributes for Zugdukrak with max hp: d8(2 + 5) + 2=9\n",
      "Setting up attributes for klarg with max hp: d8(4 + 6 + 5 + 7 + 7) + 5=34\n",
      "Setting up attributes for Hrukmak with max hp: d6(3 + 5)=8\n",
      "Setting up attributes for Wolf with max hp: d8(4 + 8) + 2=14\n",
      "Setting up attributes for Zugrak with max hp: d8(4 + 1) + 2=7\n",
      "Setting up attributes for Zugzug with max hp: d6(3 + 5)=8\n",
      "Setting up attributes for Wolf with max hp: d8(2 + 5) + 2=9\n",
      "Setting up attributes for Gorbar with max hp: d6(6 + 1)=7\n",
      "Setting up attributes for Rokganzuk with max hp: d6(2 + 6)=8\n",
      "Setting up attributes for Thakbaktuk with max hp: d6(5 + 3)=8\n",
      "Setting up attributes for Thakragzug with max hp: d6(6 + 3)=9\n",
      "Setting up attributes for Rukgrok with max hp: d10(5 + 2 + 1 + 3 + 2 + 2 + 6) + 21=42\n",
      "Setting up attributes for Roktuk with max hp: d6(1 + 1)=2\n",
      "Setting up attributes for Thakdukzug with max hp: d6(1 + 1)=2\n"
     ]
    }
   ],
   "source": [
    "from webapp.llm_conversation_handler import LLMConversationHandler\n",
    "\n",
    "\n",
    "session = Session(root_path='templates', conversation_handlers={'llm': LLMConversationHandler})\n",
    "battle_map = Map(session, 'maps/game_map.yml')\n",
    "map_renderer = MapRenderer(battle_map)\n",
    "fighter = PlayerCharacter.load(session, 'characters/high_elf_fighter.yml')\n",
    "rogue = PlayerCharacter.load(session, 'characters/halfling_rogue.yml')\n",
    "mage = PlayerCharacter.load(session, 'characters/high_elf_mage.yml')\n",
    "battle_map.place((0, 1), fighter, 'G')\n",
    "battle_map.place((3, 2), rogue, 'R')"
   ]
  },
  {
   "cell_type": "code",
   "execution_count": 6,
   "metadata": {},
   "outputs": [
    {
     "name": "stdout",
     "output_type": "stream",
     "text": [
      "0.09531092643737793\n",
      "······················\n",
      "G··P··················\n",
      "···R···········g······\n",
      "···R········g····g····\n",
      "···P··················\n",
      "····G·················\n",
      "······················\n",
      "······················\n",
      "······················\n",
      "······················\n",
      "······················\n",
      "······················\n",
      "······················\n",
      "·····g······O┐········\n",
      "·········g··└┘········\n",
      "······················\n",
      "······················\n",
      "\n",
      "······················\n",
      "G··P··················\n",
      "···R···········g······\n",
      "···R········g····g····\n",
      "···P··················\n",
      "····G·················\n",
      "······················\n",
      "······················\n",
      "······················\n",
      "······················\n",
      "······················\n",
      "······················\n",
      "······················\n",
      "·····g······O┐········\n",
      "·········g··└┘········\n",
      "······················\n",
      "······················\n",
      "\n"
     ]
    }
   ],
   "source": [
    "start_time = time.time()\n",
    "result = map_renderer.render(line_of_sight=fighter)\n",
    "duration = time.time() - start_time\n",
    "print(duration)\n",
    "print(result)\n",
    "result = map_renderer.render(line_of_sight=rogue)\n",
    "print(result)"
   ]
  },
  {
   "cell_type": "code",
   "execution_count": 8,
   "metadata": {},
   "outputs": [
    {
     "name": "stdout",
     "output_type": "stream",
     "text": [
      "Setting up attributes for Thakmak with max hp: d6(5 + 3)=8\n",
      "Setting up attributes for gabba with max hp: d6(3 + 5)=8\n",
      "Setting up attributes for Hrukmak with max hp: d6(6 + 1)=7\n",
      "Setting up attributes for Darggor with max hp: d8(6 + 2) + 2=10\n",
      "Setting up attributes for klarg with max hp: d8(2 + 3 + 1 + 7 + 5) + 5=23\n",
      "Setting up attributes for Brakturzug with max hp: d6(5 + 4)=9\n",
      "Setting up attributes for Wolf with max hp: d8(2 + 8) + 2=12\n",
      "Setting up attributes for Dargrak with max hp: d8(1 + 7) + 2=10\n",
      "Setting up attributes for Brakbakgor with max hp: d6(4 + 4)=8\n",
      "Setting up attributes for Wolf with max hp: d8(3 + 1) + 2=6\n",
      "Setting up attributes for Narturgor with max hp: d6(5 + 5)=10\n",
      "Setting up attributes for Bat with max hp: d4(3) - 1=2\n",
      "Setting up attributes for Skeleton with max hp: d8(2 + 5) + 4=11\n",
      "Setting up attributes for Specter with max hp: d8(2 + 3 + 8 + 1 + 6)=20\n",
      "Setting up attributes for Owlbear with max hp: d10(2 + 9 + 2 + 3 + 7 + 1 + 6) + 21=51\n",
      "Setting up attributes for Wolf with max hp: d8(2 + 4) + 2=8\n",
      "Setting up attributes for Cat with max hp: d4(3)=3\n",
      "Setting up attributes for Animated Armor with max hp: d8(1 + 5 + 2 + 2 + 3 + 2) + 6=21\n",
      "Setting up attributes for Nardash with max hp: d6(6 + 5)=11\n",
      "Setting up attributes for Narnak with max hp: d8(8 + 5) + 2=15\n",
      "Setting up attributes for Human Guard with max hp: d8(8 + 3) + 2=13\n",
      "Setting up attributes for Owl with max hp: d4(2) - 1=1\n",
      "Setting up attributes for Zugbakdash with max hp: d8(2 + 8 + 7 + 7 + 7) + 5=36\n",
      "Setting up attributes for Torgrok with max hp: d10(1 + 8 + 9 + 5 + 2 + 10 + 3) + 21=59\n",
      "Setting up attributes for Animated Broom with max hp: d6(6 + 4 + 1 + 5 + 5)=21\n"
     ]
    }
   ],
   "source": [
    "session = Session(root_path='templates', conversation_handlers={'llm': LLMConversationHandler})\n",
    "generate_weapon_token_map(session, 'weapon_token_map.yml')\n",
    "generate_spell_token_map(session, 'spell_token_map.yml')"
   ]
  }
 ],
 "metadata": {
  "kernelspec": {
   "display_name": "natural_20",
   "language": "python",
   "name": "python3"
  },
  "language_info": {
   "codemirror_mode": {
    "name": "ipython",
    "version": 3
   },
   "file_extension": ".py",
   "mimetype": "text/x-python",
   "name": "python",
   "nbconvert_exporter": "python",
   "pygments_lexer": "ipython3",
   "version": "3.12.9"
  }
 },
 "nbformat": 4,
 "nbformat_minor": 2
}
