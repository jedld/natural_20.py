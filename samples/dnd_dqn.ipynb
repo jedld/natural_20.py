{
 "cells": [
  {
   "cell_type": "code",
   "execution_count": null,
   "metadata": {},
   "outputs": [],
   "source": [
    "!pip install pyyaml\n",
    "!pip install dndice\n",
    "!pip install python-i18n\n",
    "!pip install gymnasium\n",
    "!pip install inflect\n",
    "!pip install collections-extended\n",
    "!pip install -e ..\n"
   ]
  },
  {
   "cell_type": "code",
   "execution_count": null,
   "metadata": {},
   "outputs": [],
   "source": [
    "import unittest\n",
    "from natural20.map import Map, Terrain\n",
    "from natural20.battle import Battle\n",
    "from natural20.player_character import PlayerCharacter\n",
    "from natural20.map_renderer import MapRenderer\n",
    "from natural20.die_roll import DieRoll\n",
    "from natural20.generic_controller import GenericController\n",
    "from natural20.utils.utils import Session\n",
    "from natural20.actions.move_action import MoveAction\n",
    "from natural20.action import Action\n",
    "from natural20.gym.dndenv import dndenv\n",
    "from gymnasium import register, envs, make\n",
    "import tqdm as tqdm\n",
    "import random"
   ]
  },
  {
   "cell_type": "code",
   "execution_count": null,
   "metadata": {},
   "outputs": [],
   "source": [
    "env = make(\"dndenv-v0\", root_path=\"../templates\")\n",
    "print(env.observation_space.shape)\n",
    "print(env.action_space.shape)"
   ]
  },
  {
   "cell_type": "code",
   "execution_count": null,
   "metadata": {},
   "outputs": [],
   "source": [
    "def generate_trajectory(env, policy=\"e-greedy\", epsilon=0.1, num_episodes=1000):\n",
    "    state, info = env.reset()\n",
    "    done = False\n",
    "    truncated = False\n",
    "    trajectory = []\n",
    "    while not done and not truncated:\n",
    "        action = random.choice(info[\"available_moves\"])\n",
    "        observation, reward, done, truncated, info = env.step(action)\n",
    "        trajectory.append((observation, reward, done, info))\n",
    "    return trajectory"
   ]
  },
  {
   "cell_type": "code",
   "execution_count": null,
   "metadata": {},
   "outputs": [],
   "source": [
    "EPIDODES = 100\n",
    "avg_reward = 0\n",
    "for i in tqdm.tqdm(range(EPIDODES)):\n",
    "    trajectory = generate_trajectory(env)\n",
    "    total_reward = 0\n",
    "    for observation, reward, done, info in trajectory:\n",
    "        total_reward += reward\n",
    "    avg_reward += total_reward\n",
    "\n",
    "avg_reward /= EPIDODES\n",
    "print(f\"Average reward: {avg_reward}\")"
   ]
  },
  {
   "cell_type": "code",
   "execution_count": null,
   "metadata": {},
   "outputs": [],
   "source": []
  }
 ],
 "metadata": {
  "kernelspec": {
   "display_name": "ai221",
   "language": "python",
   "name": "python3"
  },
  "language_info": {
   "codemirror_mode": {
    "name": "ipython",
    "version": 3
   },
   "file_extension": ".py",
   "mimetype": "text/x-python",
   "name": "python",
   "nbconvert_exporter": "python",
   "pygments_lexer": "ipython3",
   "version": "3.10.14"
  }
 },
 "nbformat": 4,
 "nbformat_minor": 2
}
