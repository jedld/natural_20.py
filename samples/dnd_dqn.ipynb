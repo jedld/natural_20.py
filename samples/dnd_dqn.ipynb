{
 "cells": [
  {
   "cell_type": "code",
   "execution_count": 5,
   "metadata": {},
   "outputs": [
    {
     "name": "stdout",
     "output_type": "stream",
     "text": [
      "Requirement already satisfied: pyyaml in /home/jedld/.local/lib/python3.10/site-packages (6.0.1)\n",
      "Requirement already satisfied: dndice in /home/jedld/.local/lib/python3.10/site-packages (2.8.1)\n",
      "Requirement already satisfied: python-i18n in /home/jedld/.local/lib/python3.10/site-packages (0.3.9)\n",
      "Requirement already satisfied: gymnasium in /home/jedld/.local/lib/python3.10/site-packages (0.29.1)\n",
      "Requirement already satisfied: numpy>=1.21.0 in /home/jedld/miniconda3/envs/ai322/lib/python3.10/site-packages (from gymnasium) (1.26.4)\n",
      "Requirement already satisfied: cloudpickle>=1.2.0 in /home/jedld/.local/lib/python3.10/site-packages (from gymnasium) (2.2.1)\n",
      "Requirement already satisfied: typing-extensions>=4.3.0 in /home/jedld/.local/lib/python3.10/site-packages (from gymnasium) (4.9.0)\n",
      "Requirement already satisfied: farama-notifications>=0.0.1 in /home/jedld/.local/lib/python3.10/site-packages (from gymnasium) (0.0.4)\n",
      "Requirement already satisfied: inflect in /home/jedld/.local/lib/python3.10/site-packages (7.0.0)\n",
      "Requirement already satisfied: pydantic>=1.9.1 in /home/jedld/miniconda3/envs/ai322/lib/python3.10/site-packages (from inflect) (2.7.1)\n",
      "Requirement already satisfied: typing-extensions in /home/jedld/.local/lib/python3.10/site-packages (from inflect) (4.9.0)\n",
      "Requirement already satisfied: annotated-types>=0.4.0 in /home/jedld/.local/lib/python3.10/site-packages (from pydantic>=1.9.1->inflect) (0.6.0)\n",
      "Requirement already satisfied: pydantic-core==2.18.2 in /home/jedld/miniconda3/envs/ai322/lib/python3.10/site-packages (from pydantic>=1.9.1->inflect) (2.18.2)\n",
      "Requirement already satisfied: collections-extended in /home/jedld/miniconda3/envs/ai322/lib/python3.10/site-packages (2.0.2)\n",
      "Collecting openai\n",
      "  Downloading openai-1.30.3-py3-none-any.whl.metadata (21 kB)\n",
      "Requirement already satisfied: anyio<5,>=3.5.0 in /home/jedld/.local/lib/python3.10/site-packages (from openai) (3.7.0)\n",
      "Collecting distro<2,>=1.7.0 (from openai)\n",
      "  Downloading distro-1.9.0-py3-none-any.whl.metadata (6.8 kB)\n",
      "Collecting httpx<1,>=0.23.0 (from openai)\n",
      "  Downloading httpx-0.27.0-py3-none-any.whl.metadata (7.2 kB)\n",
      "Requirement already satisfied: pydantic<3,>=1.9.0 in /home/jedld/miniconda3/envs/ai322/lib/python3.10/site-packages (from openai) (2.7.1)\n",
      "Requirement already satisfied: sniffio in /home/jedld/.local/lib/python3.10/site-packages (from openai) (1.3.0)\n",
      "Requirement already satisfied: tqdm>4 in /home/jedld/.local/lib/python3.10/site-packages (from openai) (4.65.0)\n",
      "Requirement already satisfied: typing-extensions<5,>=4.7 in /home/jedld/.local/lib/python3.10/site-packages (from openai) (4.9.0)\n",
      "Requirement already satisfied: idna>=2.8 in /home/jedld/.local/lib/python3.10/site-packages (from anyio<5,>=3.5.0->openai) (2.10)\n",
      "Requirement already satisfied: exceptiongroup in /home/jedld/.local/lib/python3.10/site-packages (from anyio<5,>=3.5.0->openai) (1.1.1)\n",
      "Requirement already satisfied: certifi in /home/jedld/.local/lib/python3.10/site-packages (from httpx<1,>=0.23.0->openai) (2023.5.7)\n",
      "Collecting httpcore==1.* (from httpx<1,>=0.23.0->openai)\n",
      "  Downloading httpcore-1.0.5-py3-none-any.whl.metadata (20 kB)\n",
      "Collecting h11<0.15,>=0.13 (from httpcore==1.*->httpx<1,>=0.23.0->openai)\n",
      "  Downloading h11-0.14.0-py3-none-any.whl.metadata (8.2 kB)\n",
      "Requirement already satisfied: annotated-types>=0.4.0 in /home/jedld/.local/lib/python3.10/site-packages (from pydantic<3,>=1.9.0->openai) (0.6.0)\n",
      "Requirement already satisfied: pydantic-core==2.18.2 in /home/jedld/miniconda3/envs/ai322/lib/python3.10/site-packages (from pydantic<3,>=1.9.0->openai) (2.18.2)\n",
      "Downloading openai-1.30.3-py3-none-any.whl (320 kB)\n",
      "\u001b[2K   \u001b[90m━━━━━━━━━━━━━━━━━━━━━━━━━━━━━━━━━━━━━━━━\u001b[0m \u001b[32m320.6/320.6 kB\u001b[0m \u001b[31m2.6 MB/s\u001b[0m eta \u001b[36m0:00:00\u001b[0m00:01\u001b[0m00:01\u001b[0m\n",
      "\u001b[?25hDownloading distro-1.9.0-py3-none-any.whl (20 kB)\n",
      "Downloading httpx-0.27.0-py3-none-any.whl (75 kB)\n",
      "\u001b[2K   \u001b[90m━━━━━━━━━━━━━━━━━━━━━━━━━━━━━━━━━━━━━━━━\u001b[0m \u001b[32m75.6/75.6 kB\u001b[0m \u001b[31m6.3 MB/s\u001b[0m eta \u001b[36m0:00:00\u001b[0m\n",
      "\u001b[?25hDownloading httpcore-1.0.5-py3-none-any.whl (77 kB)\n",
      "\u001b[2K   \u001b[90m━━━━━━━━━━━━━━━━━━━━━━━━━━━━━━━━━━━━━━━━\u001b[0m \u001b[32m77.9/77.9 kB\u001b[0m \u001b[31m5.6 MB/s\u001b[0m eta \u001b[36m0:00:00\u001b[0m\n",
      "\u001b[?25hDownloading h11-0.14.0-py3-none-any.whl (58 kB)\n",
      "\u001b[2K   \u001b[90m━━━━━━━━━━━━━━━━━━━━━━━━━━━━━━━━━━━━━━━━\u001b[0m \u001b[32m58.3/58.3 kB\u001b[0m \u001b[31m4.6 MB/s\u001b[0m eta \u001b[36m0:00:00\u001b[0m\n",
      "\u001b[?25hInstalling collected packages: h11, distro, httpcore, httpx, openai\n",
      "\u001b[31mERROR: pip's dependency resolver does not currently take into account all the packages that are installed. This behaviour is the source of the following dependency conflicts.\n",
      "argilla 1.9.0 requires monotonic, which is not installed.\n",
      "argilla 1.9.0 requires wrapt<1.15,>=1.13, which is not installed.\n",
      "unstructured 0.6.6 requires lxml, which is not installed.\n",
      "unstructured 0.6.6 requires markdown, which is not installed.\n",
      "argilla 1.9.0 requires httpx<0.24,>=0.15, but you have httpx 0.27.0 which is incompatible.\n",
      "argilla 1.9.0 requires numpy<1.24.0, but you have numpy 1.26.4 which is incompatible.\n",
      "auto-sklearn 0.15.0 requires scikit-learn<0.25.0,>=0.24.0, but you have scikit-learn 1.3.2 which is incompatible.\n",
      "googletrans 4.0.0rc1 requires httpx==0.13.3, but you have httpx 0.27.0 which is incompatible.\u001b[0m\u001b[31m\n",
      "\u001b[0mSuccessfully installed distro-1.9.0 h11-0.14.0 httpcore-1.0.5 httpx-0.27.0 openai-1.30.3\n",
      "Obtaining file:///home/jedld/workspace/natural_20.py\n",
      "  Preparing metadata (setup.py) ... \u001b[?25ldone\n",
      "\u001b[?25hRequirement already satisfied: pyyaml in /home/jedld/.local/lib/python3.10/site-packages (from natural20.py==0.1) (6.0.1)\n",
      "Requirement already satisfied: dndice in /home/jedld/.local/lib/python3.10/site-packages (from natural20.py==0.1) (2.8.1)\n",
      "Requirement already satisfied: python-i18n in /home/jedld/.local/lib/python3.10/site-packages (from natural20.py==0.1) (0.3.9)\n",
      "Installing collected packages: natural20.py\n",
      "  Attempting uninstall: natural20.py\n",
      "    Found existing installation: natural20.py 0.1\n",
      "    Uninstalling natural20.py-0.1:\n",
      "      Successfully uninstalled natural20.py-0.1\n",
      "  Running setup.py develop for natural20.py\n",
      "Successfully installed natural20.py\n"
     ]
    }
   ],
   "source": [
    "!pip install pyyaml\n",
    "!pip install dndice\n",
    "!pip install python-i18n\n",
    "!pip install gymnasium\n",
    "!pip install inflect\n",
    "!pip install collections-extended\n",
    "!pip install openai\n",
    "!pip install -e ..\n"
   ]
  },
  {
   "cell_type": "code",
   "execution_count": 9,
   "metadata": {},
   "outputs": [],
   "source": [
    "import unittest\n",
    "from natural20.map import Map, Terrain\n",
    "from natural20.battle import Battle\n",
    "from natural20.player_character import PlayerCharacter\n",
    "from natural20.map_renderer import MapRenderer\n",
    "from natural20.die_roll import DieRoll\n",
    "from natural20.generic_controller import GenericController\n",
    "from natural20.utils.utils import Session\n",
    "from natural20.actions.move_action import MoveAction\n",
    "from natural20.action import Action\n",
    "from natural20.gym.dndenv import dndenv\n",
    "from gymnasium import register, envs, make\n",
    "import tqdm as tqdm\n",
    "import random"
   ]
  },
  {
   "cell_type": "code",
   "execution_count": 4,
   "metadata": {},
   "outputs": [
    {
     "name": "stdout",
     "output_type": "stream",
     "text": [
      "Box(-1, 255, (10, 10, 3), int64)\n",
      "<bound method Tuple.sample of Tuple(Box(-1, 8, (1,), int64), Box(-1, 1, (2,), int64), Box(-5, 5, (2,), int64), Discrete(2))>\n"
     ]
    }
   ],
   "source": [
    "env = make(\"dndenv-v0\", root_path=\"../templates\")\n",
    "print(env.observation_space[\"map\"])\n",
    "print(env.action_space.sample)"
   ]
  },
  {
   "cell_type": "code",
   "execution_count": null,
   "metadata": {},
   "outputs": [],
   "source": [
    "def generate_trajectory(env):\n",
    "    state, info = env.reset()\n",
    "    done = False\n",
    "    truncated = False\n",
    "\n",
    "    trajectory = [state]\n",
    "    while not done and not truncated:\n",
    "        # instead of sampling  (e.g. env.action_space.sample()) we can ask help from the enivronment to obtain valid moves\n",
    "        # as there are sparse valid moves in the environment\n",
    "        action = random.choice(info[\"available_moves\"])\n",
    "        observation, reward, done, truncated, info = env.step(action)\n",
    "        trajectory.append((observation, reward, done, info))\n",
    "    return trajectory"
   ]
  },
  {
   "cell_type": "code",
   "execution_count": null,
   "metadata": {},
   "outputs": [],
   "source": [
    "EPIDODES = 100\n",
    "avg_reward = 0\n",
    "for i in tqdm.tqdm(range(EPIDODES)):\n",
    "    trajectory = generate_trajectory(env)\n",
    "    total_reward = 0\n",
    "    for observation, reward, done, info in trajectory:\n",
    "        total_reward += reward\n",
    "    avg_reward += total_reward\n",
    "\n",
    "avg_reward /= EPIDODES\n",
    "print(f\"Average reward: {avg_reward}\")"
   ]
  },
  {
   "cell_type": "code",
   "execution_count": null,
   "metadata": {},
   "outputs": [],
   "source": []
  }
 ],
 "metadata": {
  "kernelspec": {
   "display_name": "ai221",
   "language": "python",
   "name": "python3"
  },
  "language_info": {
   "codemirror_mode": {
    "name": "ipython",
    "version": 3
   },
   "file_extension": ".py",
   "mimetype": "text/x-python",
   "name": "python",
   "nbconvert_exporter": "python",
   "pygments_lexer": "ipython3",
   "version": "3.10.14"
  }
 },
 "nbformat": 4,
 "nbformat_minor": 2
}
